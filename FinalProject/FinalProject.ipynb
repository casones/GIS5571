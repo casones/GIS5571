{
 "cells": [
  {
   "cell_type": "code",
   "execution_count": 1,
   "metadata": {},
   "outputs": [],
   "source": [
    "import arcpy\n",
    "import requests\n",
    "import os\n",
    "import zipfile\n",
    "import io"
   ]
  },
  {
   "cell_type": "code",
   "execution_count": 12,
   "metadata": {},
   "outputs": [],
   "source": [
    "# Set variable for data directory and set workspace as directory\n",
    "directory = r'C:\\Users\\cason\\Desktop\\GIS5571\\FinalProject\\data'\n",
    "arcpy.env.workspace = directory"
   ]
  },
  {
   "cell_type": "markdown",
   "metadata": {},
   "source": [
    "# Post requests for input data and extract zipfiles"
   ]
  },
  {
   "cell_type": "code",
   "execution_count": 6,
   "metadata": {},
   "outputs": [],
   "source": [
    "# Hennepin County racial covenant data from Data Repository for U of M\n",
    "rclink = r'https://conservancy.umn.edu/bitstream/handle/11299/217209/Hennepin_County_Racial_Covenants.zip?sequence=9&isAllowed=y'\n",
    "rcpostrequest = requests.post(rclink)\n",
    "rccontent = rcpostrequest.content\n",
    "rczip = zipfile.ZipFile(io.BytesIO(rccontent))\n",
    "rcshp = rczip.extractall(directory)"
   ]
  },
  {
   "cell_type": "code",
   "execution_count": 7,
   "metadata": {},
   "outputs": [],
   "source": [
    "# American Community Survey (ACS) 5-Year Summary File from MN Geo Commons\n",
    "acslink = r'https://resources.gisdata.mn.gov/pub/gdrs/data/pub/us_mn_state_metc/society_census_acs/shp_society_census_acs.zip'\n",
    "acspostrequest = requests.post(acslink)\n",
    "acscontent = acspostrequest.content\n",
    "acszip = zipfile.ZipFile(io.BytesIO(acscontent))\n",
    "acstable = acszip.extractall(directory)"
   ]
  },
  {
   "cell_type": "code",
   "execution_count": 8,
   "metadata": {},
   "outputs": [],
   "source": [
    "# 2020 Census boundary shapefile from MN Geo Commons\n",
    "acsgeolink = r'https://resources.gisdata.mn.gov/pub/gdrs/data/pub/us_mn_state_metc/society_census2020tiger/shp_society_census2020tiger.zip'\n",
    "acsgeopostrequest = requests.post(acsgeolink)\n",
    "acsgeocontent = acsgeopostrequest.content\n",
    "acsgeozip = zipfile.ZipFile(io.BytesIO(acsgeocontent))\n",
    "acsgeoshp = acsgeozip.extractall(directory)"
   ]
  },
  {
   "cell_type": "code",
   "execution_count": 9,
   "metadata": {},
   "outputs": [],
   "source": [
    "# 2015 Twin Cities Metropolitan Area Urban Tree Canopy Assessment from Data Repository for U of M\n",
    "canopylink = r'https://conservancy.umn.edu/bitstream/handle/11299/183470/TCMA_UrbanTreeCanopy2015.zip?sequence=6&isAllowed=y'\n",
    "canopypostrequest = requests.post(canopylink)\n",
    "canopycontent = canopypostrequest.content\n",
    "canopyzip = zipfile.ZipFile(io.BytesIO(canopycontent))\n",
    "canopyraster = canopyzip.extractall(directory)"
   ]
  },
  {
   "cell_type": "code",
   "execution_count": 10,
   "metadata": {},
   "outputs": [],
   "source": [
    "# MN County boundary shapefile from MN Geo Commons\n",
    "countieslink = r'https://resources.gisdata.mn.gov/pub/gdrs/data/pub/us_mn_state_dnr/bdry_counties_in_minnesota/shp_bdry_counties_in_minnesota.zip'\n",
    "countiespostrequest = requests.post(countieslink)\n",
    "countiescontent = countiespostrequest.content\n",
    "countieszip = zipfile.ZipFile(io.BytesIO(countiescontent))\n",
    "countiesshp = countieszip.extractall(directory)"
   ]
  },
  {
   "cell_type": "code",
   "execution_count": 13,
   "metadata": {},
   "outputs": [],
   "source": [
    "# Set variables for input data from extracted zipfiles\n",
    "rc = 'Hennepin_County_Racial_Covenants.shp'\n",
    "acs = 'CensusACSBlockGroup.dbf'\n",
    "blockgroups = 'Census2020TigerCollarBlockGroup.shp'\n",
    "canopy = 'tcma_lc_treecanopy_v1.tif'\n",
    "counties = 'mn_county_boundaries.shp'"
   ]
  },
  {
   "cell_type": "markdown",
   "metadata": {},
   "source": [
    "# Racial Covenants Data Preparation"
   ]
  },
  {
   "cell_type": "code",
   "execution_count": 14,
   "metadata": {},
   "outputs": [
    {
     "data": {
      "text/html": [
       "<div class='gpresult'><h2>Messages</h2><div id='messages' data-messages='[\"Start Time: Monday, December 19, 2022 3:50:46 PM\",\"Adding RC to Hennepin_County_Racial_Covenants...\",\"Succeeded at Monday, December 19, 2022 3:50:48 PM (Elapsed Time: 2.15 seconds)\"]' data-show='true'><div id = 'default' /></div></div>"
      ],
      "text/plain": [
       "<Result 'C:\\\\Users\\\\cason\\\\Desktop\\\\GIS5571\\\\FinalProject\\\\data\\\\Hennepin_County_Racial_Covenants.shp'>"
      ]
     },
     "execution_count": 14,
     "metadata": {},
     "output_type": "execute_result"
    }
   ],
   "source": [
    "# Calculate RC field as 1 for all racial covenant features\n",
    "arcpy.management.CalculateField(rc, \n",
    "                                \"RC\", \n",
    "                                \"1\", \n",
    "                                \"PYTHON3\", \n",
    "                                '', \n",
    "                                \"TEXT\", \n",
    "                                \"NO_ENFORCE_DOMAINS\")"
   ]
  },
  {
   "cell_type": "code",
   "execution_count": 15,
   "metadata": {},
   "outputs": [],
   "source": [
    "# Create shapefile for Hennepin County study extent boundary\n",
    "hennbound = arcpy.conversion.FeatureClassToFeatureClass(counties, \n",
    "                                                        directory, \n",
    "                                                        \"HennepinBound.shp\", \n",
    "                                                        \"CTY_NAME = 'Hennepin'\", \n",
    "                                                        r'AREA \"AREA\" true true false 19 Double 0 0,First,#,C:\\Users\\cason\\Desktop\\GIS5571\\FinalProject\\data\\mn_county_boundaries.shp,AREA,-1,-1;PERIMETER \"PERIMETER\" true true false 19 Double 0 0,First,#,C:\\Users\\cason\\Desktop\\GIS5571\\FinalProject\\data\\mn_county_boundaries.shp,PERIMETER,-1,-1;CTYONLY_ \"CTYONLY_\" true true false 19 Double 0 0,First,#,C:\\Users\\cason\\Desktop\\GIS5571\\FinalProject\\data\\mn_county_boundaries.shp,CTYONLY_,-1,-1;CTYONLY_ID \"CTYONLY_ID\" true true false 19 Double 0 0,First,#,C:\\Users\\cason\\Desktop\\GIS5571\\FinalProject\\data\\mn_county_boundaries.shp,CTYONLY_ID,-1,-1;COUN \"COUN\" true true false 4 Short 0 4,First,#,C:\\Users\\cason\\Desktop\\GIS5571\\FinalProject\\data\\mn_county_boundaries.shp,COUN,-1,-1;CTY_NAME \"CTY_NAME\" true true false 20 Text 0 0,First,#,C:\\Users\\cason\\Desktop\\GIS5571\\FinalProject\\data\\mn_county_boundaries.shp,CTY_NAME,0,20;CTY_ABBR \"CTY_ABBR\" true true false 4 Text 0 0,First,#,C:\\Users\\cason\\Desktop\\GIS5571\\FinalProject\\data\\mn_county_boundaries.shp,CTY_ABBR,0,4;CTY_FIPS \"CTY_FIPS\" true true false 4 Short 0 4,First,#,C:\\Users\\cason\\Desktop\\GIS5571\\FinalProject\\data\\mn_county_boundaries.shp,CTY_FIPS,-1,-1;Shape_Leng \"Shape_Leng\" true true false 19 Double 0 0,First,#,C:\\Users\\cason\\Desktop\\GIS5571\\FinalProject\\data\\mn_county_boundaries.shp,Shape_Leng,-1,-1;Shape_Area \"Shape_Area\" true true false 19 Double 0 0,First,#,C:\\Users\\cason\\Desktop\\GIS5571\\FinalProject\\data\\mn_county_boundaries.shp,Shape_Area,-1,-1', \n",
    "                                                        '')"
   ]
  },
  {
   "cell_type": "code",
   "execution_count": 22,
   "metadata": {},
   "outputs": [],
   "source": [
    "# Combine racial covenant shapefile and Hennepin County boundary shapefile for raster conversion\n",
    "rchennshp = arcpy.analysis.Union([rc, hennbound], \n",
    "                                 directory + r'\\rc_henn', \n",
    "                                 \"ALL\", \n",
    "                                 None, \n",
    "                                 \"GAPS\")"
   ]
  },
  {
   "cell_type": "code",
   "execution_count": 23,
   "metadata": {},
   "outputs": [],
   "source": [
    "# Convert Hennepin racial covenants shapefile to raster layer with same 1 meter resolution as tree canopy raster\n",
    "rcraster = arcpy.conversion.PolygonToRaster(rchennshp, \n",
    "                                            \"RC\", \n",
    "                                            directory + r'\\rc_henn_rast', \n",
    "                                            \"CELL_CENTER\", \n",
    "                                            \"NONE\", \n",
    "                                            canopy, \n",
    "                                            \"BUILD\")"
   ]
  },
  {
   "cell_type": "code",
   "execution_count": null,
   "metadata": {
    "scrolled": true
   },
   "outputs": [],
   "source": [
    "# Reclassify racial covenants raster\n",
    "rcreclass = arcpy.sa.Reclassify(\"rc_henn_rast\", \n",
    "                                \"RC\", \n",
    "                                \"0 10;1 1;NODATA 10\", \n",
    "                                \"DATA\"); \n",
    "\n",
    "rcreclass.save(directory + r'\\rc_reclass')"
   ]
  },
  {
   "cell_type": "markdown",
   "metadata": {},
   "source": [
    "# ACS Poverty Data Preparation"
   ]
  },
  {
   "cell_type": "code",
   "execution_count": null,
   "metadata": {},
   "outputs": [],
   "source": [
    "# Join ACS block groups table with block group boundaries shapefile\n",
    "acsjoin = arcpy.management.AddJoin(blockgroups, \n",
    "                                   \"GEOID20\", \n",
    "                                   acs, \n",
    "                                   \"GEOID2\", \n",
    "                                   \"KEEP_ALL\", \n",
    "                                   \"INDEX_JOIN_FIELDS\")"
   ]
  },
  {
   "cell_type": "code",
   "execution_count": null,
   "metadata": {},
   "outputs": [],
   "source": [
    "# Clip ACS block group shapefile to Hennepin County study extent boundary\n",
    "acshenn = arcpy.analysis.Clip(acsjoin, \n",
    "                              hennbound, \n",
    "                              directory + r'\\ACSHenn', \n",
    "                              None)"
   ]
  },
  {
   "cell_type": "code",
   "execution_count": null,
   "metadata": {},
   "outputs": [],
   "source": [
    "# Convert ACS block group shapefile to raster using POV185RATE field with same 1 meter resolution as tree canopy raster\n",
    "acsraster = arcpy.conversion.PolygonToRaster(acshenn, \n",
    "                                             \"CensusACSBlockGroup_POV185RATE\", \n",
    "                                             directory + r'\\ACSHenn_POV185RATE_Raster', \n",
    "                                             \"CELL_CENTER\", \n",
    "                                             \"NONE\", \n",
    "                                             canopy, \n",
    "                                             \"BUILD\")"
   ]
  },
  {
   "cell_type": "code",
   "execution_count": null,
   "metadata": {},
   "outputs": [],
   "source": [
    "# Reclassify ACS raster layer to highlight areas of significant poverty\n",
    "acsreclass = arcpy.sa.Reclassify(acsraster, \n",
    "                                 \"VALUE\", \n",
    "                                 \"0 0.082353 10;0.082353 0.203922 3;0.203922 0.384314 3;0.384314 0.623529 2;0.623529 1 1;NODATA 10\", \n",
    "                                 \"DATA\"); \n",
    "\n",
    "acsreclass.save(directory + r'\\ACSHenn_Reclass\")"
   ]
  },
  {
   "cell_type": "markdown",
   "metadata": {},
   "source": [
    "# Canopy Data Preparation"
   ]
  },
  {
   "cell_type": "code",
   "execution_count": null,
   "metadata": {},
   "outputs": [],
   "source": [
    "# Extract canopy raster by Hennepin County study extent boundary mask\n",
    "canopyhenn = arcpy.sa.ExtractByMask(canopy, \n",
    "                                    hennbound, \n",
    "                                    \"INSIDE\", \n",
    "                                    '439324.861 4959173.419 486049.45 5010478.118 PROJCS[\"NAD_1983_UTM_Zone_15N\",GEOGCS[\"GCS_North_American_1983\",DATUM[\"D_North_American_1983\",SPHEROID[\"GRS_1980\",6378137.0,298.257222101]],PRIMEM[\"Greenwich\",0.0],UNIT[\"Degree\",0.0174532925199433]],PROJECTION[\"Transverse_Mercator\"],PARAMETER[\"False_Easting\",500000.0],PARAMETER[\"False_Northing\",0.0],PARAMETER[\"Central_Meridian\",-93.0],PARAMETER[\"Scale_Factor\",0.9996],PARAMETER[\"Latitude_Of_Origin\",0.0],UNIT[\"Meter\",1.0]]'); \n",
    "\n",
    "canopyhenn.save(directory + r'\\TreeCanopyHenn')"
   ]
  },
  {
   "cell_type": "code",
   "execution_count": null,
   "metadata": {},
   "outputs": [],
   "source": [
    "# Reclassify canopy raster to highlight areas suitable for increased tree canopy\n",
    "canopyreclass = arcpy.sa.Reclassify(canopyhenn, \n",
    "                                    \"Class_Name\", \n",
    "                                    \"' ' 10;Grass/Shrub 1;'Bare Soil' 1;Buildings 10;'Roads/Paved Surfaces' 10;Lakes/Ponds 10;'Deciduous Tree Canopy' 10;'Coniferous Tree Canopy' 10;Agriculture 1;'Emergent Wetland' 10;'Forested/Shrub Wetland' 10;River 10;Extraction 10;NODATA 10\", \n",
    "                                    \"DATA\"); \n",
    "\n",
    "canopyreclass.save(directory + r'\\TreeCanopyReclass')"
   ]
  },
  {
   "cell_type": "markdown",
   "metadata": {},
   "source": [
    "# Produce various Weighted Overlay results"
   ]
  },
  {
   "cell_type": "code",
   "execution_count": null,
   "metadata": {},
   "outputs": [],
   "source": [
    "# Tree Canopy: 40%\n",
    "# ACS: 30%\n",
    "# Racial Covenants: 30%\n",
    "overlay1 = arcpy.sa.WeightedOverlay(r\"('C:\\Users\\cason\\Desktop\\GIS5571\\FinalProject\\data\\Tree_Canopy_Reclass' 40 'Value' (1 1; 10 10; NODATA 10); 'C:\\Users\\cason\\Desktop\\GIS5571\\FinalProject\\data\\ACS_Henn_Reclass' 30 'Value' (1 1; 2 2; 3 3; 10 10; NODATA 10); 'C:\\Users\\cason\\Desktop\\GIS5571\\FinalProject\\data\\RacialCovReclass' 30 'Value' (1 1; 10 10; NODATA 10));1 10 1\"); \n",
    "\n",
    "overlay1.save(directory + r'\\Overlay1')"
   ]
  },
  {
   "cell_type": "code",
   "execution_count": null,
   "metadata": {},
   "outputs": [],
   "source": [
    "# Tree Canopy: 50%\n",
    "# ACS: 20%\n",
    "# Racial Covenants: 30%\n",
    "overlay2 = arcpy.sa.WeightedOverlay(r\"('C:\\Users\\cason\\Desktop\\GIS5571\\FinalProject\\data\\Tree_Canopy_Reclass' 50 'Value' (1 1; 10 10; NODATA 10); 'C:\\Users\\cason\\Desktop\\GIS5571\\FinalProject\\data\\ACS_Henn_Reclass' 20 'Value' (1 1; 2 2; 3 3; 10 10; NODATA 10); 'C:\\Users\\cason\\Desktop\\GIS5571\\FinalProject\\data\\RacialCovReclass' 30 'Value' (1 1; 10 10; NODATA 10));1 10 1\"); \n",
    "\n",
    "overlay2.save(directory + r'\\Overlay2')"
   ]
  },
  {
   "cell_type": "code",
   "execution_count": null,
   "metadata": {},
   "outputs": [],
   "source": [
    "# Tree Canopy: 50%\n",
    "# ACS: 30%\n",
    "# Racial Covenants: 20%\n",
    "overlay3 = arcpy.sa.WeightedOverlay(r\"('C:\\Users\\cason\\Desktop\\GIS5571\\FinalProject\\data\\Tree_Canopy_Reclass' 50 'Value' (1 1; 10 10; NODATA 10); 'C:\\Users\\cason\\Desktop\\GIS5571\\FinalProject\\data\\ACS_Henn_Reclass' 30 'Value' (1 1; 2 2; 3 3; 10 10; NODATA 10); 'C:\\Users\\cason\\Desktop\\GIS5571\\FinalProject\\data\\RacialCovReclass' 20 'Value' (1 1; 10 10; NODATA 10));1 10 1\"); \n",
    "\n",
    "overlay3.save(directory + r'\\Overlay3')"
   ]
  },
  {
   "cell_type": "code",
   "execution_count": null,
   "metadata": {},
   "outputs": [],
   "source": [
    "# Tree Canopy: 20%\n",
    "# ACS: 40%\n",
    "# Racial Covenants: 40%\n",
    "overlay4 = arcpy.sa.WeightedOverlay(r\"('C:\\Users\\cason\\Desktop\\GIS5571\\FinalProject\\data\\Tree_Canopy_Reclass' 20 'Value' (1 1; 10 10; NODATA 10); 'C:\\Users\\cason\\Desktop\\GIS5571\\FinalProject\\data\\ACS_Henn_Reclass' 40 'Value' (1 1; 2 2; 3 3; 10 10; NODATA 10); 'C:\\Users\\cason\\Desktop\\GIS5571\\FinalProject\\data\\RacialCovReclass' 40 'Value' (1 1; 10 10; NODATA 10));1 10 1\"); \n",
    "\n",
    "overlay4.save(directory + r'\\Overlay4')"
   ]
  }
 ],
 "metadata": {
  "kernelspec": {
   "display_name": "ArcGISPro",
   "language": "Python",
   "name": "python3"
  },
  "language_info": {
   "file_extension": ".py",
   "name": "python",
   "version": "3"
  }
 },
 "nbformat": 4,
 "nbformat_minor": 2
}
