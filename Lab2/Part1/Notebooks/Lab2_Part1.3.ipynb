{
 "cells": [
  {
   "cell_type": "code",
   "execution_count": 42,
   "metadata": {},
   "outputs": [],
   "source": [
    "import arcpy\n",
    "import requests\n",
    "import os\n",
    "import zipfile\n",
    "import io"
   ]
  },
  {
   "cell_type": "markdown",
   "metadata": {},
   "source": [
    "#Set working directory for lab data"
   ]
  },
  {
   "cell_type": "code",
   "execution_count": 43,
   "metadata": {},
   "outputs": [
    {
     "data": {
      "text/plain": [
       "'C:\\\\Users\\\\cason\\\\Desktop\\\\GIS5571\\\\Lab2'"
      ]
     },
     "execution_count": 43,
     "metadata": {},
     "output_type": "execute_result"
    }
   ],
   "source": [
    "working_directory = r'C:\\Users\\cason\\Desktop\\GIS5571\\Lab2'\n",
    "working_directory"
   ]
  },
  {
   "cell_type": "markdown",
   "metadata": {},
   "source": [
    "#Get PRISM data from Oregon State url and extract data into working directory"
   ]
  },
  {
   "cell_type": "code",
   "execution_count": 44,
   "metadata": {},
   "outputs": [
    {
     "data": {
      "text/plain": [
       "'https://prism.oregonstate.edu/fetchData.php'"
      ]
     },
     "execution_count": 44,
     "metadata": {},
     "output_type": "execute_result"
    }
   ],
   "source": [
    "#Oregon State data directory\n",
    "PRISM_url = r'https://prism.oregonstate.edu/fetchData.php'\n",
    "PRISM_url"
   ]
  },
  {
   "cell_type": "code",
   "execution_count": 45,
   "metadata": {},
   "outputs": [
    {
     "data": {
      "text/plain": [
       "'type=all_bil&kind=normals&spatial=4km&elem=ppt&temporal=annual'"
      ]
     },
     "execution_count": 45,
     "metadata": {},
     "output_type": "execute_result"
    }
   ],
   "source": [
    "#Parameters for data fetch\n",
    "PRISM_params = r'type=all_bil&kind=normals&spatial=4km&elem=ppt&temporal=annual'\n",
    "PRISM_params"
   ]
  },
  {
   "cell_type": "code",
   "execution_count": 46,
   "metadata": {},
   "outputs": [
    {
     "data": {
      "text/plain": [
       "'https://prism.oregonstate.edu/fetchData.php?type=all_bil&kind=normals&spatial=4km&elem=ppt&temporal=annual'"
      ]
     },
     "execution_count": 46,
     "metadata": {},
     "output_type": "execute_result"
    }
   ],
   "source": [
    "#Final path for retrieving data\n",
    "PRISM_path = PRISM_url + '?' + PRISM_params\n",
    "PRISM_path"
   ]
  },
  {
   "cell_type": "code",
   "execution_count": 47,
   "metadata": {},
   "outputs": [
    {
     "data": {
      "text/plain": [
       "<Response [200]>"
      ]
     },
     "execution_count": 47,
     "metadata": {},
     "output_type": "execute_result"
    }
   ],
   "source": [
    "#Post request for url to download zipfile\n",
    "PRISM_post_request = requests.post(PRISM_path)\n",
    "PRISM_post_request"
   ]
  },
  {
   "cell_type": "code",
   "execution_count": 48,
   "metadata": {},
   "outputs": [
    {
     "data": {
      "text/plain": [
       "<zipfile.ZipFile file=<_io.BytesIO object at 0x000001E45D14BBD0> mode='r'>"
      ]
     },
     "execution_count": 48,
     "metadata": {},
     "output_type": "execute_result"
    }
   ],
   "source": [
    "#Create variable for zipfile\n",
    "PRISM_zip = zipfile.ZipFile(\n",
    "    io.BytesIO(\n",
    "        PRISM_post_request.content)\n",
    ")\n",
    "PRISM_zip"
   ]
  },
  {
   "cell_type": "code",
   "execution_count": 49,
   "metadata": {},
   "outputs": [
    {
     "data": {
      "text/plain": [
       "'C:\\\\Users\\\\cason\\\\Desktop\\\\GIS5571\\\\Lab2\\\\bils'"
      ]
     },
     "execution_count": 49,
     "metadata": {},
     "output_type": "execute_result"
    }
   ],
   "source": [
    "#Create new folder for zipped file to be extracted to\n",
    "bilsfolder = os.path.join(working_directory, 'bils')\n",
    "bilsfolder"
   ]
  },
  {
   "cell_type": "code",
   "execution_count": 50,
   "metadata": {},
   "outputs": [],
   "source": [
    "#Extract files into bilsfolder\n",
    "PRISM_zip.extractall(bilsfolder)"
   ]
  },
  {
   "cell_type": "markdown",
   "metadata": {},
   "source": [
    "#Arcpy analysis to create Space Time Cube from Mosaic Dataset with PRISM raster data and visualize it"
   ]
  },
  {
   "cell_type": "code",
   "execution_count": 2,
   "metadata": {},
   "outputs": [
    {
     "data": {
      "text/html": [
       "<div class='gpresult'><h2>Messages</h2><div id='messages' data-messages='[\"Start Time: Monday, October 31, 2022 10:25:45 PM\",\"Succeeded at Monday, October 31, 2022 10:25:48 PM (Elapsed Time: 2.82 seconds)\"]' data-show='true'><div id = 'default' /></div></div>"
      ],
      "text/plain": [
       "<Result 'C:\\\\Users\\\\cason\\\\Documents\\\\ArcGIS\\\\Projects\\\\Lab1\\\\Lab2_Notes_10.19\\\\part1_3.gdb\\\\prism'>"
      ]
     },
     "execution_count": 2,
     "metadata": {},
     "output_type": "execute_result"
    }
   ],
   "source": [
    "#Create mosaic dataset for PRISM rasters to go into\n",
    "mosaic = arcpy.management.CreateMosaicDataset(r\"C:\\Users\\cason\\Documents\\ArcGIS\\Projects\\Lab1\\Lab2_Notes_10.19\\part1_3.gdb\", \n",
    "                                              \"prism\", \n",
    "                                              'PROJCS[\"NAD_1983_UTM_Zone_15N\",GEOGCS[\"GCS_North_American_1983\",DATUM[\"D_North_American_1983\",SPHEROID[\"GRS_1980\",6378137.0,298.257222101]],PRIMEM[\"Greenwich\",0.0],UNIT[\"Degree\",0.0174532925199433]],PROJECTION[\"Transverse_Mercator\"],PARAMETER[\"False_Easting\",500000.0],PARAMETER[\"False_Northing\",0.0],PARAMETER[\"Central_Meridian\",-93.0],PARAMETER[\"Scale_Factor\",0.9996],PARAMETER[\"Latitude_Of_Origin\",0.0],UNIT[\"Meter\",1.0]]', \n",
    "                                              None, \n",
    "                                              '', \n",
    "                                              \"NONE\", \n",
    "                                              None)"
   ]
  },
  {
   "cell_type": "code",
   "execution_count": 3,
   "metadata": {},
   "outputs": [
    {
     "data": {
      "text/html": [
       "<div class='gpresult'><h2>Messages</h2><div id='messages' data-messages='[\"Start Time: Monday, October 31, 2022 10:28:22 PM\",\"2022-10-31T22:28:25.965: Loading raster datasets\",\"2022-10-31T22:28:26.036: Completed crawling 13 data source items. Added 13 mosaic dataset items.\",\"2022-10-31T22:28:26.040: Synchronizing crawled data source items\",\"2022-10-31T22:28:26.056: Synchronizing items associated with raster type instance &#39;Raster Dataset&#39; [ID: 1].\",\"2022-10-31T22:28:26.485: Completed synchronization: 13 items selected, 13 items synchronized.\",\"2022-10-31T22:28:26.638: Computing cell size levels\",\"2022-10-31T22:28:26.638: Computing unique cell size values\",\"2022-10-31T22:28:26.705: Computing maximum cell size values\",\"2022-10-31T22:28:26.713: Computing minimum cell size values\",\"2022-10-31T22:28:26.720: Updating visibility values of selected items\",\"2022-10-31T22:28:26.749: Computing maximum cell size for mosaic dataset\",\"2022-10-31T22:28:26.764: Completed computing cell size ranges.\",\"2022-10-31T22:28:26.858: Completed building boundary.\",\"Succeeded at Monday, October 31, 2022 10:28:27 PM (Elapsed Time: 4.66 seconds)\"]' data-show='true'><div id = 'default' /></div></div>"
      ],
      "text/plain": [
       "<Result 'prism'>"
      ]
     },
     "execution_count": 3,
     "metadata": {},
     "output_type": "execute_result"
    }
   ],
   "source": [
    "#Add PRISM rasters to mosaic dataset\n",
    "arcpy.management.AddRastersToMosaicDataset(mosaic, \n",
    "                                           \"Raster Dataset\", \n",
    "                                           bilsfolder, \n",
    "                                           \"UPDATE_CELL_SIZES\", \n",
    "                                           \"UPDATE_BOUNDARY\", \n",
    "                                           \"NO_OVERVIEWS\", \n",
    "                                           None, \n",
    "                                           0, \n",
    "                                           1500, \n",
    "                                           None, \n",
    "                                           '', \n",
    "                                           \"SUBFOLDERS\", \n",
    "                                           \"ALLOW_DUPLICATES\", \n",
    "                                           \"NO_PYRAMIDS\", \n",
    "                                           \"NO_STATISTICS\", \n",
    "                                           \"NO_THUMBNAILS\", \n",
    "                                           '', \n",
    "                                           \"NO_FORCE_SPATIAL_REFERENCE\", \n",
    "                                           \"NO_STATISTICS\", \n",
    "                                           None, \n",
    "                                           \"NO_PIXEL_CACHE\", \n",
    "                                           r\"C:\\Users\\cason\\AppData\\Local\\ESRI\\rasterproxies\\prism\")"
   ]
  },
  {
   "cell_type": "code",
   "execution_count": 25,
   "metadata": {},
   "outputs": [],
   "source": [
    "#Create variables for data to be used in following analysis\n",
    "prism = r'C:\\Users\\cason\\Documents\\ArcGIS\\Projects\\Lab1\\Lab2_Notes_10.19\\part1_3.gdb\\prism'\n",
    "prism_fp = r'prism\\Footprint'"
   ]
  },
  {
   "cell_type": "code",
   "execution_count": 4,
   "metadata": {},
   "outputs": [
    {
     "data": {
      "text/html": [
       "<div class='gpresult'><h2>Messages</h2><div id='messages' data-messages='[\"Start Time: Monday, October 31, 2022 10:35:48 PM\",\"Adding Variable to AMD_prism_CAT...\",\"Succeeded at Monday, October 31, 2022 10:35:49 PM (Elapsed Time: 0.20 seconds)\"]' data-show='true'><div id = 'default' /></div></div>"
      ],
      "text/plain": [
       "<Result 'prism\\\\Footprint'>"
      ]
     },
     "execution_count": 4,
     "metadata": {},
     "output_type": "execute_result"
    }
   ],
   "source": [
    "#Calculate field in prism\\Footprint for precipitation\n",
    "arcpy.management.CalculateField(prism_fp, \n",
    "                                \"Variable\", \n",
    "                                '\"precipitation\"', \n",
    "                                \"PYTHON3\", \n",
    "                                '', \n",
    "                                \"TEXT\", \n",
    "                                \"NO_ENFORCE_DOMAINS\")"
   ]
  },
  {
   "cell_type": "code",
   "execution_count": 5,
   "metadata": {},
   "outputs": [
    {
     "data": {
      "text/html": [
       "<div class='gpresult'><h2>Messages</h2><div id='messages' data-messages='[\"Start Time: Monday, October 31, 2022 10:37:18 PM\",\"Adding Timestamp to AMD_prism_CAT...\",\"Succeeded at Monday, October 31, 2022 10:37:18 PM (Elapsed Time: 0.22 seconds)\"]' data-show='true'><div id = 'default' /></div></div>"
      ],
      "text/plain": [
       "<Result 'prism\\\\Footprint'>"
      ]
     },
     "execution_count": 5,
     "metadata": {},
     "output_type": "execute_result"
    }
   ],
   "source": [
    "#Add Timestamp field in prism\\Footprint for temporal attributes\n",
    "arcpy.management.AddField(prism_fp, \n",
    "                          \"Timestamp\", \n",
    "                          \"DATE\")"
   ]
  },
  {
   "cell_type": "code",
   "execution_count": 6,
   "metadata": {},
   "outputs": [
    {
     "data": {
      "text/html": [
       "<div class='gpresult'><h2>Messages</h2><div id='messages' data-messages='[\"Start Time: Monday, October 31, 2022 10:38:48 PM\",\"WARNING 000595: C:\\\\Users\\\\cason\\\\AppData\\\\Local\\\\Temp\\\\ArcGISProTemp29844\\\\AMD_prism_CAT0.fid contains the full list of records not able to be processed.\",\"WARNING 001156: Failed on input OID 13, could not write value &#39;an/15/2015&#39; to output field Timestamp\",\"Succeeded at Monday, October 31, 2022 10:38:48 PM (Elapsed Time: 0.09 seconds)\"]' data-show='true'><div id = 'default' /></div></div>"
      ],
      "text/plain": [
       "<Result 'prism\\\\Footprint'>"
      ]
     },
     "execution_count": 6,
     "metadata": {},
     "output_type": "execute_result"
    }
   ],
   "source": [
    "#Calculate Timestamp field to display dates using Python 3 expression\n",
    "arcpy.CalculateField_management(prism_fp, \n",
    "                                \"Timestamp\", \n",
    "                                '!NAME![28:30] + r\"/15/2015\"', \n",
    "                                'PYTHON3', \n",
    "                                \"\")"
   ]
  },
  {
   "cell_type": "code",
   "execution_count": 7,
   "metadata": {},
   "outputs": [
    {
     "data": {
      "text/html": [
       "<div class='gpresult'><h2>Messages</h2><div id='messages' data-messages='[\"Start Time: Monday, October 31, 2022 10:40:05 PM\",\"Succeeded at Monday, October 31, 2022 10:40:06 PM (Elapsed Time: 1.67 seconds)\"]' data-show='true'><div id = 'default' /></div></div>"
      ],
      "text/plain": [
       "<Result 'prism'>"
      ]
     },
     "execution_count": 7,
     "metadata": {},
     "output_type": "execute_result"
    }
   ],
   "source": [
    "#Build Multidimensional Info based off of precipitation and temporal attribute information\n",
    "arcpy.md.BuildMultidimensionalInfo(prism, \n",
    "                                   \"Variable\", \n",
    "                                   \"Timestamp # #\", \n",
    "                                   None, \n",
    "                                   \"NO_DELETE_MULTIDIMENSIONAL_INFO\")"
   ]
  },
  {
   "cell_type": "code",
   "execution_count": 8,
   "metadata": {},
   "outputs": [
    {
     "data": {
      "text/html": [
       "<div class='gpresult'><h2>Messages</h2><div id='messages' data-messages='[\"Start Time: Monday, October 31, 2022 10:42:28 PM\",\"Succeeded at Monday, October 31, 2022 10:42:31 PM (Elapsed Time: 2.59 seconds)\"]' data-show='true'><div id = 'default' /></div></div>"
      ],
      "text/plain": [
       "<Result 'prism_MultidimLayer'>"
      ]
     },
     "execution_count": 8,
     "metadata": {},
     "output_type": "execute_result"
    }
   ],
   "source": [
    "#Create Multidimentional Raster Layer from PRISM data\n",
    "multi_dim = arcpy.md.MakeMultidimensionalRasterLayer(prism, \n",
    "                                                     \"prism_MultidimLayer\", \n",
    "                                                     \"precipitation\", \n",
    "                                                     \"ALL\", \n",
    "                                                     None, \n",
    "                                                     None, \n",
    "                                                     '', \n",
    "                                                     '', \n",
    "                                                     '', \n",
    "                                                     None, \n",
    "                                                     '', \n",
    "                                                     '-2871587.5494 2660354.42202726 3264899.3806283 6041683.9549 PROJCS[\"datum_D_North_American_1983_HARN_UTM_Zone_15N\",GEOGCS[\"GCS_datum_D_North_American_1983_HARN\",DATUM[\"D_unknown\",SPHEROID[\"GRS_1980\",6378137.0,298.257222101]],PRIMEM[\"Greenwich\",0.0],UNIT[\"Degree\",0.0174532925199433]],PROJECTION[\"Transverse_Mercator\"],PARAMETER[\"false_easting\",500000.0],PARAMETER[\"false_northing\",0.0],PARAMETER[\"central_meridian\",-93.0],PARAMETER[\"scale_factor\",0.9996],PARAMETER[\"latitude_of_origin\",0.0],UNIT[\"Meter\",1.0]],VERTCS[\"NAVD88 - Geoid03 (Meters)\",VDATUM[\"unknown\"],PARAMETER[\"Vertical_Shift\",0.0],PARAMETER[\"Direction\",1.0],UNIT[\"Meter\",1.0]]', \n",
    "                                                     \"DIMENSIONS\", \n",
    "                                                     None)"
   ]
  },
  {
   "cell_type": "code",
   "execution_count": 9,
   "metadata": {},
   "outputs": [
    {
     "data": {
      "text/html": [
       "<div class='gpresult'><h2>Messages</h2><div id='messages' data-messages='[\"Start Time: Monday, October 31, 2022 10:47:49 PM\",\"WARNING 110013: The default Time Step Interval is 1 month.\",{\"element\":\"content\",\"data\":\"The space time cube has aggregated 313228081 points into 964467 fishnet grid locations over 12 time step intervals.  Each location is a 4638.31 meters by 4638.31 meters square.  The entire space time cube spans an area 6136486.93 meters west to east and 3381329.53 meters north to south.  Each of the time step intervals is 1 month in duration so the entire time period covered by the space time cube is 12 months.  Of the 964467 total locations, 384562 (39.87%) contain at least one point for at least one time step interval.  These 384562 locations comprise 4614744 space time bins of which 11571094 (250.74%) have point counts greater than zero.  There is not a statistically significant increase or decrease in point counts over time.\"},[{\"element\":\"table\",\"data\":[[{\"data\":\"Input feature time extent\",\"prop\":{\"rowspan\":2}},\"2015-01-15 00:00:00\"],[{\"data\":\"to 2015-12-15 00:00:00\",\"prop\":{\"text-align\":\"right\"}}],[\"\",\"\"],[\"Number of time steps\",\"12\"],[\"Time step interval\",\"1 month\"],[\"Time step alignment\",\"End\"],[\"\",\"\"],[\"First time step temporal bias\",\"100.00%\"],[{\"data\":\"First time step interval\",\"prop\":{\"rowspan\":4}},\"after\"],[{\"data\":\"2014-12-15 00:00:00\",\"prop\":{\"text-align\":\"right\"}}],[{\"data\":\"to on or before\",\"prop\":{\"text-align\":\"right\"}}],[{\"data\":\"2015-01-15 00:00:00\",\"prop\":{\"text-align\":\"right\"}}],[\"\",\"\"],[\"Last time step temporal bias\",\"0.00%\"],[{\"data\":\"Last time step interval\",\"prop\":{\"rowspan\":4}},\"after\"],[{\"data\":\"2015-11-15 00:00:00\",\"prop\":{\"text-align\":\"right\"}}],[{\"data\":\"to on or before\",\"prop\":{\"text-align\":\"right\"}}],[{\"data\":\"2015-12-15 00:00:00\",\"prop\":{\"text-align\":\"right\"}}],[\"\",\"\"],[\"Coordinate System\",\"NAD 1983 UTM Zone 15N\"],[\"Cube extent across space\",\"(coordinates in meters)\"],[\"Min X\",\"-2871587.5494\"],[\"Min Y\",\"2660354.4220\"],[\"Max X\",\"3264899.3806\"],[\"Max Y\",\"6041683.9549\"],[\"Rows\",\"729\"],[\"Columns\",\"1323\"],[\"Total bins\",\"11573604\"]],\"elementProps\":{\"striped\":\"true\",\"noHeader\":true,\"title\":\"Space Time Cube Characteristics\",\"0\":{\"align\":\"left\",\"pad\":\"0px\",\"wrap\":true},\"1\":{\"align\":\"right\",\"pad\":\"0px\",\"wrap\":true}}}],[{\"element\":\"table\",\"data\":[[\"% of locations excluded due to unfilled bins\",\"579905 (  60.13%)\"],[\"- Total number\",\"579905\"],[\"Total number of locations\",\"384562\"],[\"- associated bins\",\"4614744\"],[\"% of included locations with estimated bins\",\"  3.33%\"],[\"- Total number\",\"12811\"],[\"% of all bins that were estimated\",\"  0.37%\"],[\"- Total number\",\"17252\"]],\"elementProps\":{\"striped\":\"true\",\"title\":\"Summary Field - PRECIPITATION_NONE_SPACE_TIME_NEIGHBORS\",\"0\":{\"align\":\"left\",\"pad\":\"0px\",\"wrap\":true},\"1\":{\"align\":\"right\",\"pad\":\"0px\",\"wrap\":true}}}],[{\"element\":\"table\",\"data\":[[\"Trend direction\",\"Not Significant\"],[\"Trend statistic\",\"-0.0686\"],[\"Trend p-value\",\"0.9453\"]],\"elementProps\":{\"striped\":\"true\",\"noHeader\":true,\"title\":\"Overall Data Trend - PRECIPITATION_NONE_SPACE_TIME_NEIGHBORS\",\"0\":{\"align\":\"left\",\"pad\":\"0px\",\"wrap\":true},\"1\":{\"align\":\"right\",\"pad\":\"0px\",\"wrap\":true}}}],\"Succeeded at Monday, October 31, 2022 10:48:15 PM (Elapsed Time: 25.93 seconds)\"]' data-show='true'><div id = 'default' /></div></div>"
      ],
      "text/plain": [
       "<Result 'C:\\\\Users\\\\cason\\\\Desktop\\\\GIS5571\\\\Lab2\\\\part1_3\\\\space_time_cube.nc'>"
      ]
     },
     "execution_count": 9,
     "metadata": {},
     "output_type": "execute_result"
    }
   ],
   "source": [
    "#Create Space Time Cube from output Multidimensional Raster Layer\n",
    "cube = arcpy.stpm.CreateSpaceTimeCubeMDRasterLayer(multi_dim, \n",
    "                                                   r\"C:\\Users\\cason\\Desktop\\GIS5571\\Lab2\\part1_3\\space_time_cube.nc\", \n",
    "                                                   \"SPACE_TIME_NEIGHBORS\")"
   ]
  },
  {
   "cell_type": "code",
   "execution_count": 10,
   "metadata": {},
   "outputs": [
    {
     "data": {
      "text/html": [
       "<div class='gpresult'><h2>Messages</h2><div id='messages' data-messages='[\"Start Time: Monday, October 31, 2022 10:50:34 PM\",\"WARNING 110044: The time it takes to render the cube in three dimensions may vary considerably based on the number of features and the graphics card associated with your CPU.\",\"WARNING 110054: If some or all of your data is not drawing, it may fall outside of the Visibility Range limits, which can be cleared. If some or all of your data is underground, you may need to turn off Elevation Surfaces.\",\"Succeeded at Monday, October 31, 2022 10:53:28 PM (Elapsed Time: 2 minutes 53 seconds)\"]' data-show='true'><div id = 'default' /></div></div>"
      ],
      "text/plain": [
       "<Result 'C:\\\\Users\\\\cason\\\\Documents\\\\ArcGIS\\\\Projects\\\\Lab1\\\\Lab2_Notes_10.19\\\\Default.gdb\\\\space_time_cube_VisualizeSpaceTimeCube3D'>"
      ]
     },
     "execution_count": 10,
     "metadata": {},
     "output_type": "execute_result"
    }
   ],
   "source": [
    "#Visualize animated Space Time Cube\n",
    "arcpy.stpm.VisualizeSpaceTimeCube3D(cube, \n",
    "                                    \"PRECIPITATION_NONE_SPACE_TIME_NEIGHBORS\", \n",
    "                                    \"VALUE\", \n",
    "                                    r\"C:\\Users\\cason\\Documents\\ArcGIS\\Projects\\Lab1\\Lab2_Notes_10.19\\Default.gdb\\space_time_cube_VisualizeSpaceTimeCube3D\")"
   ]
  }
 ],
 "metadata": {
  "kernelspec": {
   "display_name": "ArcGISPro",
   "language": "Python",
   "name": "python3"
  },
  "language_info": {
   "file_extension": ".py",
   "name": "python",
   "version": "3"
  }
 },
 "nbformat": 4,
 "nbformat_minor": 2
}
