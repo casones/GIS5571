{
 "cells": [
  {
   "cell_type": "code",
   "execution_count": 1,
   "metadata": {},
   "outputs": [],
   "source": [
    "import arcpy\n",
    "import requests\n",
    "import os\n",
    "import zipfile\n",
    "import io"
   ]
  },
  {
   "cell_type": "markdown",
   "metadata": {},
   "source": [
    "#Assign working directory"
   ]
  },
  {
   "cell_type": "code",
   "execution_count": 2,
   "metadata": {},
   "outputs": [],
   "source": [
    "workspace = r'C:\\Users\\cason\\Desktop\\GIS5571\\Lab2\\part2'"
   ]
  },
  {
   "cell_type": "markdown",
   "metadata": {},
   "source": [
    "#Assign variables for data"
   ]
  },
  {
   "cell_type": "code",
   "execution_count": 3,
   "metadata": {},
   "outputs": [],
   "source": [
    "mn_counties = r'C:\\Users\\cason\\Desktop\\GIS5571\\Lab2\\part2\\data\\mn_county_boundaries.shp'\n",
    "mn_dem = r'C:\\Users\\cason\\Desktop\\GIS5571\\Lab2\\part2\\data\\elev_30m_digital_elevation_model.gdb\\digital_elevation_model_30m'\n",
    "mn_nlcd = r'C:\\Users\\cason\\Desktop\\GIS5571\\Lab2\\part2\\data\\NLCD_2019_Land_Cover.tif'\n",
    "mn_streams = r'C:\\Users\\cason\\Desktop\\GIS5571\\Lab2\\part2\\data\\streams_with_strahler_stream_order.shp'\n",
    "mn_roads = r'C:\\Users\\cason\\Desktop\\GIS5571\\Lab2\\part2\\data\\NLCD_2019_Land_Cover_Impervious_Descriptor.tif'"
   ]
  },
  {
   "cell_type": "markdown",
   "metadata": {},
   "source": [
    "#Create study extent area from Minnesota Counties shapefile"
   ]
  },
  {
   "cell_type": "code",
   "execution_count": 4,
   "metadata": {},
   "outputs": [],
   "source": [
    "# Select Wabasha, Winona, and Olmsted counties from mn_counties feature class\n",
    "mn_county_selection = arcpy.conversion.FeatureClassToFeatureClass(mn_counties, \n",
    "                                                                  workspace, \n",
    "                                                                  \"mn_counties_study_extent\", \n",
    "                                                                  \"CTY_NAME = 'Wabasha' Or CTY_NAME = 'Winona' Or CTY_NAME = 'Olmsted'\", \n",
    "                                                                  r'AREA \"AREA\" true true false 19 Double 0 0,First,#,C:\\Users\\cason\\Desktop\\GIS5571\\Lab2\\part2\\data\\mn_county_boundaries.shp,AREA,-1,-1;PERIMETER \"PERIMETER\" true true false 19 Double 0 0,First,#,C:\\Users\\cason\\Desktop\\GIS5571\\Lab2\\part2\\data\\mn_county_boundaries.shp,PERIMETER,-1,-1;CTYONLY_ \"CTYONLY_\" true true false 19 Double 0 0,First,#,C:\\Users\\cason\\Desktop\\GIS5571\\Lab2\\part2\\data\\mn_county_boundaries.shp,CTYONLY_,-1,-1;CTYONLY_ID \"CTYONLY_ID\" true true false 19 Double 0 0,First,#,C:\\Users\\cason\\Desktop\\GIS5571\\Lab2\\part2\\data\\mn_county_boundaries.shp,CTYONLY_ID,-1,-1;COUN \"COUN\" true true false 4 Short 0 4,First,#,C:\\Users\\cason\\Desktop\\GIS5571\\Lab2\\part2\\data\\mn_county_boundaries.shp,COUN,-1,-1;CTY_NAME \"CTY_NAME\" true true false 20 Text 0 0,First,#,C:\\Users\\cason\\Desktop\\GIS5571\\Lab2\\part2\\data\\mn_county_boundaries.shp,CTY_NAME,0,20;CTY_ABBR \"CTY_ABBR\" true true false 4 Text 0 0,First,#,C:\\Users\\cason\\Desktop\\GIS5571\\Lab2\\part2\\data\\mn_county_boundaries.shp,CTY_ABBR,0,4;CTY_FIPS \"CTY_FIPS\" true true false 4 Short 0 4,First,#,C:\\Users\\cason\\Desktop\\GIS5571\\Lab2\\part2\\data\\mn_county_boundaries.shp,CTY_FIPS,-1,-1;Shape_Leng \"Shape_Leng\" true true false 19 Double 0 0,First,#,C:\\Users\\cason\\Desktop\\GIS5571\\Lab2\\part2\\data\\mn_county_boundaries.shp,Shape_Leng,-1,-1;Shape_Area \"Shape_Area\" true true false 19 Double 0 0,First,#,C:\\Users\\cason\\Desktop\\GIS5571\\Lab2\\part2\\data\\mn_county_boundaries.shp,Shape_Area,-1,-1', '')"
   ]
  },
  {
   "cell_type": "code",
   "execution_count": 5,
   "metadata": {},
   "outputs": [
    {
     "data": {
      "text/html": [
       "<div class='gpresult'><h2>Messages</h2><div id='messages' data-messages='[\"Start Time: Sunday, October 30, 2022 8:30:24 PM\",\"Dissolving...\",\"Succeeded at Sunday, October 30, 2022 8:30:24 PM (Elapsed Time: 0.24 seconds)\"]' data-show='true'><div id = 'default' /></div></div>"
      ],
      "text/plain": [
       "<Result 'C:\\\\Users\\\\cason\\\\Desktop\\\\GIS5571\\\\Lab2\\\\part2\\\\study_extent.shp'>"
      ]
     },
     "execution_count": 5,
     "metadata": {},
     "output_type": "execute_result"
    }
   ],
   "source": [
    "# Dissolve selected counties to create study area extent boundary\n",
    "arcpy.management.Dissolve(mn_county_selection, \n",
    "                          r'C:\\Users\\cason\\Desktop\\GIS5571\\Lab2\\part2\\study_extent', \n",
    "                          None, None, \"MULTI_PART\", \"DISSOLVE_LINES\", '')"
   ]
  },
  {
   "cell_type": "code",
   "execution_count": 6,
   "metadata": {},
   "outputs": [],
   "source": [
    "#Create variable for study extent area boundary\n",
    "study_extent = r'C:\\Users\\cason\\Desktop\\GIS5571\\Lab2\\part2\\study_extent'"
   ]
  },
  {
   "cell_type": "markdown",
   "metadata": {},
   "source": [
    "#Roads: Extract raster by study extent mask and reclassify"
   ]
  },
  {
   "cell_type": "code",
   "execution_count": 8,
   "metadata": {},
   "outputs": [],
   "source": [
    "#Use study extent as a mask for extracting roads raster\n",
    "roads_study_extent = arcpy.sa.ExtractByMask(mn_roads, \n",
    "                                            study_extent, \n",
    "                                            \"INSIDE\", \n",
    "                                            '524966.6376 4853462.8394 637916.1448 4922619.9426 PROJCS[\"NAD_1983_UTM_Zone_15N\",GEOGCS[\"GCS_North_American_1983\",DATUM[\"D_North_American_1983\",SPHEROID[\"GRS_1980\",6378137.0,298.257222101]],PRIMEM[\"Greenwich\",0.0],UNIT[\"Degree\",0.0174532925199433]],PROJECTION[\"Transverse_Mercator\"],PARAMETER[\"False_Easting\",500000.0],PARAMETER[\"False_Northing\",0.0],PARAMETER[\"Central_Meridian\",-93.0],PARAMETER[\"Scale_Factor\",0.9996],PARAMETER[\"Latitude_Of_Origin\",0.0],UNIT[\"Meter\",1.0]]'); \n",
    "roads_study_extent.save(r\"C:\\Users\\cason\\Documents\\ArcGIS\\Projects\\Lab1\\Lab2_Notes_10.19\\Default.gdb\\Extract_NLCD1\")"
   ]
  },
  {
   "cell_type": "code",
   "execution_count": 9,
   "metadata": {},
   "outputs": [],
   "source": [
    "#Reclassify masked roads raster. Unclassified: 10, Primary: 1, Secondary: 1, Tertiary: 1, Non-road/non-energy impervious: 2, LCMAP impervious: 3, Wind turbines: 7\n",
    "roads_reclass = arcpy.ddd.Reclassify(roads_study_extent, \n",
    "                                     \"Class_Name\", \n",
    "                                     \"Unclassified 10;'Primary road' 1;'Secondary road' 1;'Tertiary road' 1;'Non-road non-energy impervious' 2;'LCMAP impervious' 3;'Wind turbines' 7\", r\"C:\\Users\\cason\\Desktop\\GIS5571\\Lab2\\part2\\data\\roads_reclass\", \"DATA\")"
   ]
  },
  {
   "cell_type": "markdown",
   "metadata": {},
   "source": [
    "#Slope: Extract raster by study extent, derive slope from DEM, and reclassify"
   ]
  },
  {
   "cell_type": "code",
   "execution_count": 10,
   "metadata": {},
   "outputs": [],
   "source": [
    "#Use study extent as a mask for extracting DEM raster\n",
    "dem_study_extent = arcpy.sa.ExtractByMask(mn_dem, \n",
    "                                          study_extent, \n",
    "                                          \"INSIDE\", \n",
    "                                          '524966.6376 4853462.8394 637916.1448 4922619.9426 PROJCS[\"NAD_1983_UTM_Zone_15N\",GEOGCS[\"GCS_North_American_1983\",DATUM[\"D_North_American_1983\",SPHEROID[\"GRS_1980\",6378137.0,298.257222101]],PRIMEM[\"Greenwich\",0.0],UNIT[\"Degree\",0.0174532925199433]],PROJECTION[\"Transverse_Mercator\"],PARAMETER[\"False_Easting\",500000.0],PARAMETER[\"False_Northing\",0.0],PARAMETER[\"Central_Meridian\",-93.0],PARAMETER[\"Scale_Factor\",0.9996],PARAMETER[\"Latitude_Of_Origin\",0.0],UNIT[\"Meter\",1.0]]'); \n",
    "dem_study_extent.save(r\"C:\\Users\\cason\\Desktop\\GIS5571\\Lab2\\part2\\data\\dem_se\")"
   ]
  },
  {
   "cell_type": "code",
   "execution_count": 11,
   "metadata": {},
   "outputs": [],
   "source": [
    "#Use slope tool on masked DEM raster and use percent rise as output measurement\n",
    "slope = arcpy.sa.Slope(dem_study_extent, \n",
    "                       \"PERCENT_RISE\", \n",
    "                       1, \n",
    "                       \"PLANAR\", \n",
    "                       \"METER\"); \n",
    "slope.save(r\"C:\\Users\\cason\\Desktop\\GIS5571\\Lab2\\part2\\data\\slope\")"
   ]
  },
  {
   "cell_type": "code",
   "execution_count": 13,
   "metadata": {},
   "outputs": [],
   "source": [
    "#Reclassify masked slope raster. 0-3% = 1, 3-6% = 2, 6-12% = 3, 12-15% = 4, 15-18% = 8, 18-21% = 9, >21% = 10\n",
    "slope_reclass = arcpy.sa.Reclassify(slope, \n",
    "                                    \"VALUE\", \n",
    "                                    \"0 3 1;3 6 2;6 12 3;12 15 4;15 18 8;18 21 9;21 24 10;24 27 10;27 30 10;30 533.479797 10\", \n",
    "                                    \"DATA\"); \n",
    "slope_reclass.save(r\"C:\\Users\\cason\\Desktop\\GIS5571\\Lab2\\part2\\data\\slope_reclass\")"
   ]
  },
  {
   "cell_type": "markdown",
   "metadata": {},
   "source": [
    "#Land Cover: Extract raster by study extent and reclassify"
   ]
  },
  {
   "cell_type": "code",
   "execution_count": 14,
   "metadata": {},
   "outputs": [],
   "source": [
    "#Use study extent as a mask for extracting NLCD raster\n",
    "nlcd_study_extent = arcpy.sa.ExtractByMask(mn_nlcd, \n",
    "                                           study_extent, \n",
    "                                           \"INSIDE\", \n",
    "                                           '524966.6376 4853462.8394 637916.1448 4922619.9426 PROJCS[\"NAD_1983_UTM_Zone_15N\",GEOGCS[\"GCS_North_American_1983\",DATUM[\"D_North_American_1983\",SPHEROID[\"GRS_1980\",6378137.0,298.257222101]],PRIMEM[\"Greenwich\",0.0],UNIT[\"Degree\",0.0174532925199433]],PROJECTION[\"Transverse_Mercator\"],PARAMETER[\"False_Easting\",500000.0],PARAMETER[\"False_Northing\",0.0],PARAMETER[\"Central_Meridian\",-93.0],PARAMETER[\"Scale_Factor\",0.9996],PARAMETER[\"Latitude_Of_Origin\",0.0],UNIT[\"Meter\",1.0]]'); \n",
    "nlcd_study_extent.save(r\"C:\\Users\\cason\\Desktop\\GIS5571\\Lab2\\part2\\data\\nlcd_se\")"
   ]
  },
  {
   "cell_type": "code",
   "execution_count": 15,
   "metadata": {},
   "outputs": [],
   "source": [
    "#Reclassify masked NLCD raster. Open Water = 10, Developed Open Space = 2, Developed Low Intensity = 2, Developed Medium Intensity = 2, Developed High Intensity = 2, Barren Land = 5, Deciduous Forest = 7, Evergreen Forest = 7, Mixed Forest = 7, Shrub = 7, Herbaceous = 7, Hay/Pasture = 9, Cultivated Crops = 9, Woody Wetlands = 9, Emergent Herbaceous Wetlands = 10\n",
    "nlcd_reclass = arcpy.sa.Reclassify(nlcd_study_extent, \n",
    "                                   \"NLCD_LAND\", \n",
    "                                   \"'Open Water' 10;'Developed, Open Space' 2;'Developed, Low Intensity' 2;'Developed, Medium Intensity' 2;'Developed, High Intensity' 2;'Barren Land' 5;'Deciduous Forest' 7;'Evergreen Forest' 7;'Mixed Forest' 7;Shrub/Scrub 7;Herbaceous 7;Hay/Pasture 9;'Cultivated Crops' 9;'Woody Wetlands' 9;'Emergent Herbaceous Wetlands' 10\", \n",
    "                                   \"DATA\"); \n",
    "nlcd_reclass.save(r\"C:\\Users\\cason\\Desktop\\GIS5571\\Lab2\\part2\\data\\nlcd_reclass\")"
   ]
  },
  {
   "cell_type": "markdown",
   "metadata": {},
   "source": [
    "#Streams: Clip feature class and reclassify"
   ]
  },
  {
   "cell_type": "code",
   "execution_count": 16,
   "metadata": {},
   "outputs": [],
   "source": [
    "#Clip mn_streams shapefile within study extent\n",
    "streams_clip = arcpy.analysis.Clip(mn_streams, \n",
    "                                   study_extent, \n",
    "                                   r\"C:\\Users\\cason\\Desktop\\GIS5571\\Lab2\\part2\\data\\streams_clip\", \n",
    "                                   None)"
   ]
  },
  {
   "cell_type": "code",
   "execution_count": 17,
   "metadata": {},
   "outputs": [],
   "source": [
    "#Convert streams shapefile to raster\n",
    "streams_raster = arcpy.conversion.FeatureToRaster(streams_clip, \n",
    "                                                  \"SO_VALUE\", \n",
    "                                                  r\"C:\\Users\\cason\\Desktop\\GIS5571\\Lab2\\part2\\data\\stream_raster\", \n",
    "                                                  r\"C:\\Users\\cason\\Desktop\\GIS5571\\Lab2\\part2\\data\\dem_se\")"
   ]
  },
  {
   "cell_type": "code",
   "execution_count": 18,
   "metadata": {},
   "outputs": [],
   "source": [
    "#Reclassify streams raster. Smaller streams are classified lower than larger streams.\n",
    "streams_reclass = arcpy.sa.Reclassify(streams_raster, \n",
    "                                      \"VALUE\", \n",
    "                                      \"1 1;2 2;3 8;4 8;5 10;6 10;8 10\", \n",
    "                                      \"NODATA\"); \n",
    "streams_reclass.save(r\"C:\\Users\\cason\\Desktop\\GIS5571\\Lab2\\part2\\data\\streams_rc\")"
   ]
  },
  {
   "cell_type": "code",
   "execution_count": 25,
   "metadata": {},
   "outputs": [],
   "source": [
    "#Performed Raster Calculator outside of script, because I continued to get errors, and filled in all non-stream areas with 0 value cells\n",
    "final_streams_reclass = r'C:\\Users\\cason\\Desktop\\GIS5571\\Lab2\\part2\\data\\final_stream'"
   ]
  },
  {
   "cell_type": "markdown",
   "metadata": {},
   "source": [
    "#Perform Weighted Overlay to generate a Cost Surface"
   ]
  },
  {
   "cell_type": "code",
   "execution_count": 2,
   "metadata": {},
   "outputs": [],
   "source": [
    "cost_surface = arcpy.sa.WeightedOverlay(r\"('C:\\Users\\cason\\Desktop\\GIS5571\\Lab2\\part2\\data\\slope_reclass' 25 'VALUE' (1 1; 2 2; 3 3; 4 4; 8 8; 9 9; 10 10; NODATA NODATA); 'C:\\Users\\cason\\Desktop\\GIS5571\\Lab2\\part2\\data\\roads_reclass' 25 'VALUE' (1 1; 2 2; 3 3; 7 7; 10 10; NODATA NODATA); 'C:\\Users\\cason\\Desktop\\GIS5571\\Lab2\\part2\\data\\nlcd_reclass' 25 'VALUE' (2 2; 5 5; 7 7; 9 9; 10 10; NODATA NODATA); 'C:\\Users\\cason\\Desktop\\GIS5571\\Lab2\\part2\\data\\final_stream' 25 'VALUE' (0 1; 1 1; 2 2; 8 8; 10 10; NODATA NODATA));1 10 1\"); \n",
    "cost_surface.save(r\"C:\\Users\\cason\\Desktop\\GIS5571\\Lab2\\part2\\data\\cost_surface\")"
   ]
  },
  {
   "cell_type": "markdown",
   "metadata": {},
   "source": [
    "#Create variables for the location of Dory's farm and Dory's destination"
   ]
  },
  {
   "cell_type": "code",
   "execution_count": 3,
   "metadata": {},
   "outputs": [],
   "source": [
    "#Create variables for CSV files created in Excel\n",
    "start_csv = r'C:\\Users\\cason\\Desktop\\GIS5571\\Lab2\\part2\\start.csv'\n",
    "end_csv = r'C:\\Users\\cason\\Desktop\\GIS5571\\Lab2\\part2\\end.csv'"
   ]
  },
  {
   "cell_type": "code",
   "execution_count": 7,
   "metadata": {},
   "outputs": [],
   "source": [
    "#Create start point shapefile from CSV file\n",
    "start = arcpy.management.XYTableToPoint(start_csv, \n",
    "                                        r\"C:\\Users\\cason\\Desktop\\GIS5571\\Lab2\\part2\\data\\start_point.shp\", \n",
    "                                        \"longitude\", \n",
    "                                        \"latitude\", \n",
    "                                        None, \n",
    "                                        'GEOGCS[\"GCS_WGS_1984\",DATUM[\"D_WGS_1984\",SPHEROID[\"WGS_1984\",6378137.0,298.257223563]],PRIMEM[\"Greenwich\",0.0],UNIT[\"Degree\",0.0174532925199433]];-400 -400 1000000000;-100000 10000;-100000 10000;8.98315284119521E-09;0.001;0.001;IsHighPrecision')"
   ]
  },
  {
   "cell_type": "code",
   "execution_count": 8,
   "metadata": {},
   "outputs": [],
   "source": [
    "#Create end point shapefile from CSV file\n",
    "end = arcpy.management.XYTableToPoint(end_csv, \n",
    "                                      r\"C:\\Users\\cason\\Desktop\\GIS5571\\Lab2\\part2\\data\\end_point.shp\", \n",
    "                                      \"longitude\", \n",
    "                                      \"latitude\", \n",
    "                                      None, \n",
    "                                      'GEOGCS[\"GCS_WGS_1984\",DATUM[\"D_WGS_1984\",SPHEROID[\"WGS_1984\",6378137.0,298.257223563]],PRIMEM[\"Greenwich\",0.0],UNIT[\"Degree\",0.0174532925199433]];-400 -400 1000000000;-100000 10000;-100000 10000;8.98315284119521E-09;0.001;0.001;IsHighPrecision')"
   ]
  },
  {
   "cell_type": "markdown",
   "metadata": {},
   "source": [
    "#Perform Cost Distance analysis"
   ]
  },
  {
   "cell_type": "code",
   "execution_count": 11,
   "metadata": {},
   "outputs": [],
   "source": [
    "cost_distance = arcpy.sa.CostDistance(\"start_point\", \n",
    "                                      \"cost_surface\", \n",
    "                                      None, \n",
    "                                      r\"C:\\Users\\cason\\Desktop\\GIS5571\\Lab2\\part2\\data\\direct_surf\", \n",
    "                                      None, None, None, None, ''); \n",
    "cost_distance.save(r\"C:\\Users\\cason\\Desktop\\GIS5571\\Lab2\\part2\\data\\cost_dist_fin\")"
   ]
  },
  {
   "cell_type": "code",
   "execution_count": 12,
   "metadata": {},
   "outputs": [],
   "source": [
    "direction_surface = r'C:\\Users\\cason\\Desktop\\GIS5571\\Lab2\\part2\\data\\direct_surf'"
   ]
  },
  {
   "cell_type": "markdown",
   "metadata": {},
   "source": [
    "#Perform Cost Path analysis"
   ]
  },
  {
   "cell_type": "code",
   "execution_count": 14,
   "metadata": {},
   "outputs": [],
   "source": [
    "cost_path = arcpy.sa.CostPath(end, \n",
    "                               cost_distance, \n",
    "                               direction_surface, \n",
    "                               \"BEST_SINGLE\", \n",
    "                               \"FID\", \n",
    "                               \"INPUT_RANGE\"); \n",
    "cost_path.save(r\"C:\\Users\\cason\\Desktop\\GIS5571\\Lab2\\part2\\data\\optimal_route\")"
   ]
  }
 ],
 "metadata": {
  "kernelspec": {
   "display_name": "ArcGISPro",
   "language": "Python",
   "name": "python3"
  },
  "language_info": {
   "file_extension": ".py",
   "name": "python",
   "version": "3"
  }
 },
 "nbformat": 4,
 "nbformat_minor": 2
}
