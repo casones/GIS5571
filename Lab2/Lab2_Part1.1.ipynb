{
 "cells": [
  {
   "cell_type": "code",
   "execution_count": 23,
   "metadata": {},
   "outputs": [],
   "source": [
    "import arcpy\n",
    "import requests\n",
    "import os"
   ]
  },
  {
   "cell_type": "code",
   "execution_count": 15,
   "metadata": {},
   "outputs": [],
   "source": [
    "arcpy.env.workspace = r'C:\\Users\\cason\\Documents\\ArcGIS\\Projects\\Lab1\\Lab2_Notes_10.19'"
   ]
  },
  {
   "cell_type": "code",
   "execution_count": 24,
   "metadata": {},
   "outputs": [
    {
     "data": {
      "text/plain": [
       "'C:\\\\Users\\\\cason\\\\Desktop\\\\GIS5571\\\\Lab2'"
      ]
     },
     "execution_count": 24,
     "metadata": {},
     "output_type": "execute_result"
    }
   ],
   "source": [
    "working_directory = r'C:\\Users\\cason\\Desktop\\GIS5571\\Lab2'\n",
    "working_directory"
   ]
  },
  {
   "cell_type": "code",
   "execution_count": 25,
   "metadata": {},
   "outputs": [
    {
     "data": {
      "text/plain": [
       "'https://resources.gisdata.mn.gov/pub/data/elevation/lidar/examples/lidar_sample/las/4342-12-05.las'"
      ]
     },
     "execution_count": 25,
     "metadata": {},
     "output_type": "execute_result"
    }
   ],
   "source": [
    "las_link = r'https://resources.gisdata.mn.gov/pub/data/elevation/lidar/examples/lidar_sample/las/4342-12-05.las'\n",
    "las_link"
   ]
  },
  {
   "cell_type": "code",
   "execution_count": 26,
   "metadata": {},
   "outputs": [],
   "source": [
    "las_link_obj = requests.post(las_link)\n",
    "las_link_obj.content"
   ]
  },
  {
   "cell_type": "code",
   "execution_count": 33,
   "metadata": {},
   "outputs": [
    {
     "data": {
      "text/plain": [
       "'C:\\\\Users\\\\cason\\\\Desktop\\\\GIS5571\\\\Lab2\\\\4342-12-05.las'"
      ]
     },
     "execution_count": 33,
     "metadata": {},
     "output_type": "execute_result"
    }
   ],
   "source": [
    "path_to_las = os.path.join(working_directory, '4342-12-05.las')\n",
    "path_to_las"
   ]
  },
  {
   "cell_type": "code",
   "execution_count": 28,
   "metadata": {},
   "outputs": [],
   "source": [
    "with open (path_to_las, 'wb') as f:\n",
    "    f.write(las_link_obj.content)"
   ]
  },
  {
   "cell_type": "code",
   "execution_count": 13,
   "metadata": {},
   "outputs": [
    {
     "data": {
      "text/plain": [
       "'C:\\\\Users\\\\cason\\\\Desktop\\\\GIS5571\\\\Lab2\\\\4342-12-05.las'"
      ]
     },
     "execution_count": 13,
     "metadata": {},
     "output_type": "execute_result"
    }
   ],
   "source": [
    "las_file = r'C:\\Users\\cason\\Desktop\\GIS5571\\Lab2\\4342-12-05.las'\n",
    "las_file"
   ]
  },
  {
   "cell_type": "code",
   "execution_count": 14,
   "metadata": {},
   "outputs": [],
   "source": [
    "las_tin = arcpy.ddd.LasDatasetToTin(las_file, \n",
    "                                    r\"C:\\Users\\cason\\Desktop\\GIS5571\\Lab2\\las_tin\", \n",
    "                                    \"RANDOM\", \n",
    "                                    \"NODE_COUNT\", \n",
    "                                    75, \n",
    "                                    5000000, \n",
    "                                    1, \n",
    "                                    \"CLIP\")"
   ]
  },
  {
   "cell_type": "code",
   "execution_count": 31,
   "metadata": {},
   "outputs": [],
   "source": [
    "las_dem = arcpy.conversion.LasDatasetToRaster(las_file, \n",
    "                                              r\"C:\\Users\\cason\\Desktop\\GIS5571\\Lab2\\las_raster\", \n",
    "                                              \"ELEVATION\", \n",
    "                                              \"BINNING AVERAGE LINEAR\", \n",
    "                                              \"FLOAT\", \n",
    "                                              \"CELLSIZE\", \n",
    "                                              10, \n",
    "                                              1)"
   ]
  },
  {
   "cell_type": "code",
   "execution_count": 35,
   "metadata": {},
   "outputs": [
    {
     "data": {
      "text/plain": [
       "'C:\\\\Users\\\\cason\\\\Desktop\\\\GIS5571\\\\Lab2\\\\lastodem.pdf'"
      ]
     },
     "execution_count": 35,
     "metadata": {},
     "output_type": "execute_result"
    }
   ],
   "source": [
    "aprx = arcpy.mp.ArcGISProject(r\"C:\\Users\\cason\\Documents\\ArcGIS\\Projects\\Lab1\\Lab2_Notes_10.19\\Lab2_Notes_10.aprx\")\n",
    "lyt = aprx.listLayouts()[0]\n",
    "lyt.exportToPDF(r\"C:\\Users\\cason\\Desktop\\GIS5571\\Lab2\\lastodem.pdf\", resolution = 300)"
   ]
  },
  {
   "cell_type": "code",
   "execution_count": 38,
   "metadata": {},
   "outputs": [
    {
     "ename": "IndexError",
     "evalue": "list index out of range",
     "output_type": "error",
     "traceback": [
      "\u001b[0;31m---------------------------------------------------------------------------\u001b[0m\n\u001b[0;31mIndexError\u001b[0m                                Traceback (most recent call last)",
      "In  \u001b[0;34m[38]\u001b[0m:\nLine \u001b[0;34m2\u001b[0m:     lyt = aprx.listLayouts()[\u001b[34m1\u001b[39;49;00m]\n",
      "\u001b[0;31mIndexError\u001b[0m: list index out of range\n\u001b[0;31m---------------------------------------------------------------------------\u001b[0m"
     ]
    }
   ],
   "source": [
    "aprx = arcpy.mp.ArcGISProject(r\"C:\\Users\\cason\\Documents\\ArcGIS\\Projects\\Lab1\\Lab2_Notes_10.19\\Lab2_Notes_10.aprx\")\n",
    "lyt = aprx.listLayouts()[1]\n",
    "lyt.exportToPDF(r\"C:\\Users\\cason\\Desktop\\GIS5571\\Lab2\\lastotin.pdf\", resolution = 300)"
   ]
  }
 ],
 "metadata": {
  "kernelspec": {
   "display_name": "ArcGISPro",
   "language": "Python",
   "name": "python3"
  },
  "language_info": {
   "file_extension": ".py",
   "name": "python",
   "version": "3"
  }
 },
 "nbformat": 4,
 "nbformat_minor": 2
}
