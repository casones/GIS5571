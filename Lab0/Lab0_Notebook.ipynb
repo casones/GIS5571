{
 "cells": [
  {
   "cell_type": "markdown",
   "metadata": {},
   "source": [
    "#Assign variables"
   ]
  },
  {
   "cell_type": "code",
   "execution_count": 28,
   "metadata": {},
   "outputs": [],
   "source": [
    "highways = \"SDW_INCDT.NHS\""
   ]
  },
  {
   "cell_type": "markdown",
   "metadata": {},
   "source": [
    "#Perform buffer on highway layer"
   ]
  },
  {
   "cell_type": "code",
   "execution_count": 29,
   "metadata": {},
   "outputs": [
    {
     "data": {
      "text/html": [
       "<div class='gpresult'><h2>Messages</h2><div id='messages' data-messages='[\"Start Time: Wednesday, September 21, 2022 12:02:33 PM\",\"Succeeded at Wednesday, September 21, 2022 12:02:34 PM (Elapsed Time: 1.24 seconds)\"]' data-show='true'><div id = 'default' /></div></div>"
      ],
      "text/plain": [
       "<Result 'C:\\\\Users\\\\cason\\\\Documents\\\\GIS5571\\\\Lab0\\\\Lab0_ArcPro\\\\Lab0_ArcPro.gdb\\\\SDW_INCDT_Buffer_2km'>"
      ]
     },
     "execution_count": 29,
     "metadata": {},
     "output_type": "execute_result"
    }
   ],
   "source": [
    "arcpy.analysis.Buffer(highways, \"SDW_INCDT_Buffer_2km\", \"2 Kilometers\")"
   ]
  }
 ],
 "metadata": {
  "kernelspec": {
   "display_name": "ArcGISPro",
   "language": "Python",
   "name": "python3"
  },
  "language_info": {
   "file_extension": ".py",
   "name": "python",
   "version": "3"
  }
 },
 "nbformat": 4,
 "nbformat_minor": 2
}
